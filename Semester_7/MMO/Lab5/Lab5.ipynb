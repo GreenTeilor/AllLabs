{
  "cells": [
    {
      "cell_type": "markdown",
      "metadata": {
        "id": "FM6XV3IlabW_"
      },
      "source": [
        "Деревья решений"
      ]
    },
    {
      "cell_type": "markdown",
      "metadata": {
        "id": "vmf64yOAROKl"
      },
      "source": [
        "## <center>Теория <a class=\"anchor\" id=\"theory\"></a><center>"
      ]
    },
    {
      "cell_type": "markdown",
      "metadata": {
        "id": "uYL_20_gabXB"
      },
      "source": [
        "## Деревья решений<a class=\"anchor\" id=\"dt\"></a>"
      ]
    },
    {
      "cell_type": "markdown",
      "metadata": {
        "id": "Y6OcIFWiabXC"
      },
      "source": [
        "Далее речь пойдет еще об одном популярном методе машинного обучения - _деревьях решений_. Это семейство алгоритмов значительно отличается от линейных моделей, но применяется также в задачах классификации и регрессии.\n",
        "\n",
        "Метод основан на известной структуре данных - деревьях, которые по сути представляют собой последовательные инструкции с условиями. Например, в обсуждаемой ранее задаче кредитного скоринга может быть следующий алгоритм принятия решения:\n",
        "\n",
        "1. Старше ли клиент 18 лет? Если да, то продолжаем, иначе отказываем в кредите.\n",
        "\n",
        "2. Превышает ли его заработок 50 тысяч рублей? Если да, то продолжаем, иначе отказываем в кредите.\n",
        "\n",
        "3. Были ли у клиента просроченные кредиты ранее? Если да, отказываем в кредите, иначе выдаем.\n",
        "\n",
        "В листьях (терминальных узлах) деревьев стоят значения целевой функции (прогноз), а в узлах - условия перехода, определяющие, по какому из ребер идти. Если речь идет о бинарных деревьях (каждый узел производит ветвление на две части), обычно, если условие в узле истинно, то происходит переход по левому ребру, если ложно, то по правому. Изобразим описанный выше алгоритм в виде дерева решений."
      ]
    },
    {
      "cell_type": "markdown",
      "metadata": {
        "id": "Qr_dCxQCROK5"
      },
      "source": [
        "![L4_graphviz.png](data:image/png;base64,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)"
      ]
    },
    {
      "cell_type": "markdown",
      "metadata": {
        "id": "asbWiXeOabXM"
      },
      "source": [
        "В задачах машинного обучения чаще всего в вершинах прописываются максимально простые условия. Обычно это сравнение значения одного из признаков $x^{j}$ с некоторым заданным порогом $t$:\n",
        "\n",
        "$$[x^{j} \\leq t].$$\n",
        "\n",
        "Если решается задача классификации, конечным прогнозом является класс или распределение вероятностей классов. В случае регрессии прогноз в листе является вещественным числом.\n",
        "\n",
        "Большим плюсом деревьев является тот факт, что они легко интерпретируемы."
      ]
    },
    {
      "cell_type": "markdown",
      "metadata": {
        "id": "MNt1_4CWabXM"
      },
      "source": [
        "## Построение деревьев решений<a class=\"anchor\" id=\"build_dt\"></a>"
      ]
    },
    {
      "cell_type": "markdown",
      "metadata": {
        "id": "IR2W64axabXN"
      },
      "source": [
        "Деревья обладают и отрицательными качествами - в частности, они очень легко переобучаются. Легко построить дерево, в котором каждый лист будет соответствовать одному объекту обучающей выборки. Оно будет идеально подогнано под обучающую выборку, давать стопроцентный ответ на ней, но при этом не будет восстанавливать оригинальных закономерностей, и качество ответов на новых данных будет неудовлетворительным."
      ]
    },
    {
      "cell_type": "code",
      "execution_count": null,
      "metadata": {
        "id": "u7Xi827dabXb"
      },
      "outputs": [],
      "source": [
        "import matplotlib.pyplot as plt\n",
        "import random\n",
        "\n",
        "from matplotlib.colors import ListedColormap\n",
        "from sklearn.datasets import make_classification, make_circles\n",
        "from sklearn.tree import DecisionTreeClassifier, DecisionTreeRegressor, plot_tree\n",
        "from sklearn.metrics import accuracy_score\n",
        "\n",
        "import numpy as np\n",
        "import pandas as pd\n",
        "\n",
        "import warnings\n",
        "warnings.filterwarnings('ignore')"
      ]
    },
    {
      "cell_type": "markdown",
      "metadata": {
        "id": "VNaBs_kHROLP"
      },
      "source": [
        "В машинном обучении деревья строятся последовательно от корня к листьям (так называемый \"жадный\" способ). Вначале выбирается корень и критерий, по которому выборка разбивается на две. Затем то же самое делается для каждого из потомков этого корня и так далее до достаточного уровня ветвления. Задача состоит в выборе способа **разбиения каждого из узлов**, то есть в выборе значения порога, с которым будет сравниваться значение одного из признаков в каждом узле.\n",
        "\n",
        "Разбиение выбирается с точки зрения некоторого заранее заданного функционала качества $Q(X, j, t)$. Находятся наилучшие значения $j$ и $t$ для создания _предиката_ $[x^{j}<t]$. **Параметры $j$ и $t$ можно выбирать перебором**: признаков конечное число, а из всех возможных значений порога $t$ можно рассматривать только те, при которых получаются различные разбиения на две подвыборки, таким образом, различных значений параметра $t$ будет столько же, сколько различных значений признака $x^{j}$ в обучающей выборке.\n"
      ]
    },
    {
      "cell_type": "markdown",
      "metadata": {
        "id": "2k5dCHAQabXO"
      },
      "source": [
        "В каждой вершине производится проверка, не выполнилось ли некоторое условие останова (критерии останова рассмотрим далее), и если оно выполнилось, разбиение прекращается, и вершина объвляется листом, и он будет содержать прогноз.\n",
        "\n",
        "В задаче _классификации_ это будет класс, к которому относится большая часть объектов из выборки в листе $X_{m}$\n",
        "\n",
        "$$a_{m} = \\text{argmax}_{y \\in Y} \\sum_{i \\in X_{m}}[y_{i}=y]$$\n",
        "\n",
        "или доля объектов определенного класса $k$, если требуется предсказать _вероятности классов_\n",
        "\n",
        "$$a_{mk} = \\frac{1}{|X_{m}|} \\sum_{i \\in X_{m}}[y_{i}=k].$$\n"
      ]
    },
    {
      "cell_type": "code",
      "execution_count": null,
      "metadata": {
        "colab": {
          "base_uri": "https://localhost:8080/",
          "height": 356
        },
        "id": "zN5W_LS8tdfi",
        "outputId": "bbe88276-d29c-4488-98a3-01356f636b7d"
      },
      "outputs": [
        {
          "output_type": "error",
          "ename": "FileNotFoundError",
          "evalue": "[Errno 2] No such file or directory: 'cardio.csv'",
          "traceback": [
            "\u001b[0;31m---------------------------------------------------------------------------\u001b[0m",
            "\u001b[0;31mFileNotFoundError\u001b[0m                         Traceback (most recent call last)",
            "\u001b[0;32m<ipython-input-8-159135656d75>\u001b[0m in \u001b[0;36m<cell line: 1>\u001b[0;34m()\u001b[0m\n\u001b[0;32m----> 1\u001b[0;31m \u001b[0mdf\u001b[0m \u001b[0;34m=\u001b[0m \u001b[0mpd\u001b[0m\u001b[0;34m.\u001b[0m\u001b[0mread_csv\u001b[0m\u001b[0;34m(\u001b[0m\u001b[0;34m'cardio.csv'\u001b[0m\u001b[0;34m,\u001b[0m \u001b[0msep\u001b[0m\u001b[0;34m=\u001b[0m\u001b[0;34m';'\u001b[0m\u001b[0;34m)\u001b[0m\u001b[0;34m\u001b[0m\u001b[0;34m\u001b[0m\u001b[0m\n\u001b[0m\u001b[1;32m      2\u001b[0m \u001b[0;34m\u001b[0m\u001b[0m\n\u001b[1;32m      3\u001b[0m \u001b[0mfeatures\u001b[0m \u001b[0;34m=\u001b[0m \u001b[0;34m[\u001b[0m\u001b[0;34m'age'\u001b[0m\u001b[0;34m,\u001b[0m \u001b[0;34m'gender'\u001b[0m\u001b[0;34m,\u001b[0m \u001b[0;34m'height'\u001b[0m\u001b[0;34m]\u001b[0m\u001b[0;34m\u001b[0m\u001b[0;34m\u001b[0m\u001b[0m\n\u001b[1;32m      4\u001b[0m \u001b[0mtarget\u001b[0m \u001b[0;34m=\u001b[0m \u001b[0;34m[\u001b[0m\u001b[0;34m'cardio'\u001b[0m\u001b[0;34m]\u001b[0m\u001b[0;34m\u001b[0m\u001b[0;34m\u001b[0m\u001b[0m\n\u001b[1;32m      5\u001b[0m \u001b[0mdf\u001b[0m \u001b[0;34m=\u001b[0m \u001b[0mdf\u001b[0m\u001b[0;34m.\u001b[0m\u001b[0miloc\u001b[0m\u001b[0;34m[\u001b[0m\u001b[0;34m:\u001b[0m\u001b[0;36m5\u001b[0m\u001b[0;34m]\u001b[0m\u001b[0;34m[\u001b[0m\u001b[0mfeatures\u001b[0m \u001b[0;34m+\u001b[0m \u001b[0mtarget\u001b[0m\u001b[0;34m]\u001b[0m\u001b[0;34m\u001b[0m\u001b[0;34m\u001b[0m\u001b[0m\n",
            "\u001b[0;32m/usr/local/lib/python3.10/dist-packages/pandas/io/parsers/readers.py\u001b[0m in \u001b[0;36mread_csv\u001b[0;34m(filepath_or_buffer, sep, delimiter, header, names, index_col, usecols, dtype, engine, converters, true_values, false_values, skipinitialspace, skiprows, skipfooter, nrows, na_values, keep_default_na, na_filter, verbose, skip_blank_lines, parse_dates, infer_datetime_format, keep_date_col, date_parser, date_format, dayfirst, cache_dates, iterator, chunksize, compression, thousands, decimal, lineterminator, quotechar, quoting, doublequote, escapechar, comment, encoding, encoding_errors, dialect, on_bad_lines, delim_whitespace, low_memory, memory_map, float_precision, storage_options, dtype_backend)\u001b[0m\n\u001b[1;32m   1024\u001b[0m     \u001b[0mkwds\u001b[0m\u001b[0;34m.\u001b[0m\u001b[0mupdate\u001b[0m\u001b[0;34m(\u001b[0m\u001b[0mkwds_defaults\u001b[0m\u001b[0;34m)\u001b[0m\u001b[0;34m\u001b[0m\u001b[0;34m\u001b[0m\u001b[0m\n\u001b[1;32m   1025\u001b[0m \u001b[0;34m\u001b[0m\u001b[0m\n\u001b[0;32m-> 1026\u001b[0;31m     \u001b[0;32mreturn\u001b[0m \u001b[0m_read\u001b[0m\u001b[0;34m(\u001b[0m\u001b[0mfilepath_or_buffer\u001b[0m\u001b[0;34m,\u001b[0m \u001b[0mkwds\u001b[0m\u001b[0;34m)\u001b[0m\u001b[0;34m\u001b[0m\u001b[0;34m\u001b[0m\u001b[0m\n\u001b[0m\u001b[1;32m   1027\u001b[0m \u001b[0;34m\u001b[0m\u001b[0m\n\u001b[1;32m   1028\u001b[0m \u001b[0;34m\u001b[0m\u001b[0m\n",
            "\u001b[0;32m/usr/local/lib/python3.10/dist-packages/pandas/io/parsers/readers.py\u001b[0m in \u001b[0;36m_read\u001b[0;34m(filepath_or_buffer, kwds)\u001b[0m\n\u001b[1;32m    618\u001b[0m \u001b[0;34m\u001b[0m\u001b[0m\n\u001b[1;32m    619\u001b[0m     \u001b[0;31m# Create the parser.\u001b[0m\u001b[0;34m\u001b[0m\u001b[0;34m\u001b[0m\u001b[0m\n\u001b[0;32m--> 620\u001b[0;31m     \u001b[0mparser\u001b[0m \u001b[0;34m=\u001b[0m \u001b[0mTextFileReader\u001b[0m\u001b[0;34m(\u001b[0m\u001b[0mfilepath_or_buffer\u001b[0m\u001b[0;34m,\u001b[0m \u001b[0;34m**\u001b[0m\u001b[0mkwds\u001b[0m\u001b[0;34m)\u001b[0m\u001b[0;34m\u001b[0m\u001b[0;34m\u001b[0m\u001b[0m\n\u001b[0m\u001b[1;32m    621\u001b[0m \u001b[0;34m\u001b[0m\u001b[0m\n\u001b[1;32m    622\u001b[0m     \u001b[0;32mif\u001b[0m \u001b[0mchunksize\u001b[0m \u001b[0;32mor\u001b[0m \u001b[0miterator\u001b[0m\u001b[0;34m:\u001b[0m\u001b[0;34m\u001b[0m\u001b[0;34m\u001b[0m\u001b[0m\n",
            "\u001b[0;32m/usr/local/lib/python3.10/dist-packages/pandas/io/parsers/readers.py\u001b[0m in \u001b[0;36m__init__\u001b[0;34m(self, f, engine, **kwds)\u001b[0m\n\u001b[1;32m   1618\u001b[0m \u001b[0;34m\u001b[0m\u001b[0m\n\u001b[1;32m   1619\u001b[0m         \u001b[0mself\u001b[0m\u001b[0;34m.\u001b[0m\u001b[0mhandles\u001b[0m\u001b[0;34m:\u001b[0m \u001b[0mIOHandles\u001b[0m \u001b[0;34m|\u001b[0m \u001b[0;32mNone\u001b[0m \u001b[0;34m=\u001b[0m \u001b[0;32mNone\u001b[0m\u001b[0;34m\u001b[0m\u001b[0;34m\u001b[0m\u001b[0m\n\u001b[0;32m-> 1620\u001b[0;31m         \u001b[0mself\u001b[0m\u001b[0;34m.\u001b[0m\u001b[0m_engine\u001b[0m \u001b[0;34m=\u001b[0m \u001b[0mself\u001b[0m\u001b[0;34m.\u001b[0m\u001b[0m_make_engine\u001b[0m\u001b[0;34m(\u001b[0m\u001b[0mf\u001b[0m\u001b[0;34m,\u001b[0m \u001b[0mself\u001b[0m\u001b[0;34m.\u001b[0m\u001b[0mengine\u001b[0m\u001b[0;34m)\u001b[0m\u001b[0;34m\u001b[0m\u001b[0;34m\u001b[0m\u001b[0m\n\u001b[0m\u001b[1;32m   1621\u001b[0m \u001b[0;34m\u001b[0m\u001b[0m\n\u001b[1;32m   1622\u001b[0m     \u001b[0;32mdef\u001b[0m \u001b[0mclose\u001b[0m\u001b[0;34m(\u001b[0m\u001b[0mself\u001b[0m\u001b[0;34m)\u001b[0m \u001b[0;34m->\u001b[0m \u001b[0;32mNone\u001b[0m\u001b[0;34m:\u001b[0m\u001b[0;34m\u001b[0m\u001b[0;34m\u001b[0m\u001b[0m\n",
            "\u001b[0;32m/usr/local/lib/python3.10/dist-packages/pandas/io/parsers/readers.py\u001b[0m in \u001b[0;36m_make_engine\u001b[0;34m(self, f, engine)\u001b[0m\n\u001b[1;32m   1878\u001b[0m                 \u001b[0;32mif\u001b[0m \u001b[0;34m\"b\"\u001b[0m \u001b[0;32mnot\u001b[0m \u001b[0;32min\u001b[0m \u001b[0mmode\u001b[0m\u001b[0;34m:\u001b[0m\u001b[0;34m\u001b[0m\u001b[0;34m\u001b[0m\u001b[0m\n\u001b[1;32m   1879\u001b[0m                     \u001b[0mmode\u001b[0m \u001b[0;34m+=\u001b[0m \u001b[0;34m\"b\"\u001b[0m\u001b[0;34m\u001b[0m\u001b[0;34m\u001b[0m\u001b[0m\n\u001b[0;32m-> 1880\u001b[0;31m             self.handles = get_handle(\n\u001b[0m\u001b[1;32m   1881\u001b[0m                 \u001b[0mf\u001b[0m\u001b[0;34m,\u001b[0m\u001b[0;34m\u001b[0m\u001b[0;34m\u001b[0m\u001b[0m\n\u001b[1;32m   1882\u001b[0m                 \u001b[0mmode\u001b[0m\u001b[0;34m,\u001b[0m\u001b[0;34m\u001b[0m\u001b[0;34m\u001b[0m\u001b[0m\n",
            "\u001b[0;32m/usr/local/lib/python3.10/dist-packages/pandas/io/common.py\u001b[0m in \u001b[0;36mget_handle\u001b[0;34m(path_or_buf, mode, encoding, compression, memory_map, is_text, errors, storage_options)\u001b[0m\n\u001b[1;32m    871\u001b[0m         \u001b[0;32mif\u001b[0m \u001b[0mioargs\u001b[0m\u001b[0;34m.\u001b[0m\u001b[0mencoding\u001b[0m \u001b[0;32mand\u001b[0m \u001b[0;34m\"b\"\u001b[0m \u001b[0;32mnot\u001b[0m \u001b[0;32min\u001b[0m \u001b[0mioargs\u001b[0m\u001b[0;34m.\u001b[0m\u001b[0mmode\u001b[0m\u001b[0;34m:\u001b[0m\u001b[0;34m\u001b[0m\u001b[0;34m\u001b[0m\u001b[0m\n\u001b[1;32m    872\u001b[0m             \u001b[0;31m# Encoding\u001b[0m\u001b[0;34m\u001b[0m\u001b[0;34m\u001b[0m\u001b[0m\n\u001b[0;32m--> 873\u001b[0;31m             handle = open(\n\u001b[0m\u001b[1;32m    874\u001b[0m                 \u001b[0mhandle\u001b[0m\u001b[0;34m,\u001b[0m\u001b[0;34m\u001b[0m\u001b[0;34m\u001b[0m\u001b[0m\n\u001b[1;32m    875\u001b[0m                 \u001b[0mioargs\u001b[0m\u001b[0;34m.\u001b[0m\u001b[0mmode\u001b[0m\u001b[0;34m,\u001b[0m\u001b[0;34m\u001b[0m\u001b[0;34m\u001b[0m\u001b[0m\n",
            "\u001b[0;31mFileNotFoundError\u001b[0m: [Errno 2] No such file or directory: 'cardio.csv'"
          ]
        }
      ],
      "source": [
        "df = pd.read_csv('cardio.csv', sep=';')\n",
        "\n",
        "features = ['age', 'gender', 'height']\n",
        "target = ['cardio']\n",
        "df = df.iloc[:5][features + target]\n",
        "df"
      ]
    },
    {
      "cell_type": "code",
      "execution_count": null,
      "metadata": {
        "id": "Kosuwv61ROLo"
      },
      "outputs": [],
      "source": [
        "dt_clsf = DecisionTreeClassifier(random_state=1,\n",
        "                                 max_depth=1)\n",
        "dt_clsf.fit(df[features], df[target])\n",
        "\n",
        "fig, ax = plt.subplots(figsize=(5, 3))\n",
        "plot_tree(dt_clsf, ax=ax, feature_names=list(features), class_names=['0', '1'], fontsize = 9, filled=True, impurity=False);"
      ]
    },
    {
      "cell_type": "markdown",
      "metadata": {
        "id": "vZMrCqwCROLq"
      },
      "source": [
        "В случае _регрессии_ можно в качестве ответа давать средний по выборке в листе\n",
        "\n",
        "$$a_{m} = \\frac{1}{|X_{m}|} \\sum_{i \\in X_{m}}y_{i}.$$\n",
        "\n",
        "После построения дерева может проводиться его _стрижка_ (pruning) - удаление некоторых вершин согласно некоторому подходу с целью понижения сложности модели и повышения обобщающей способности."
      ]
    },
    {
      "cell_type": "code",
      "execution_count": null,
      "metadata": {
        "id": "m11jQAjpROL0"
      },
      "outputs": [],
      "source": [
        "dt_regr = DecisionTreeRegressor(random_state=1,\n",
        "                                max_depth=1)\n",
        "\n",
        "features = ['cardio', 'gender', 'height']\n",
        "target = ['age']\n",
        "\n",
        "dt_regr.fit(df[features], df[target])\n",
        "\n",
        "fig, ax = plt.subplots(figsize=(5, 3))\n",
        "plot_tree(dt_regr, ax=ax, feature_names=list(features),fontsize = 9, filled=True, impurity=False);"
      ]
    },
    {
      "cell_type": "markdown",
      "metadata": {
        "id": "SV4vq5FrabXP"
      },
      "source": [
        "За функционал качества при работе с деревом решений принимается функционал вида\n",
        "\n",
        "$$Q(X_{m}, j, t) = H(X_{m}) - \\frac{|X_{l}|}{|X_{m}|}H(X_{l}) - \\frac{|X_{r}|}{|X_{m}|}H(X_{r}),$$\n",
        "\n",
        "его еще называют **приростом информации** (information gain).\n",
        "\n",
        "где $X_{m}$ - множество объектов, попавших в вершину на данном шаге, $X_{l}$ и $X_{r}$ - множества, попадающие в левое и правое поддерево, соответственно, после разбиения. $H(X)$ - _критерий информативности_. Он оценивает качество распределения объектов в подмножестве и тем меньше, чем меньше разнообразие ответов в $X$, соответственно, задача обучения состоит в его минимизации и, соответственно, максимизации $Q(X_{m}, j, t)$ на данном шаге. Последний, по сути, характеризует прирост качества на данном шаге.\n",
        "\n",
        "В формуле значения критериев информативности нормируются - домножаются на долю объектов, ушедших в соответствующее подмножество. Например, если у нас множество в узле разбилось на два подмножества размером в 9990 объектов и 10 объектов, но при этом в первом подмножестве все объекты будут принадлежать к одному классу (то есть иметь минимальное значение разброса), а во втором - к разным, то в целом разбиение будет считаться хорошим, так как подавляющее большинство отсортировано правильно."
      ]
    },
    {
      "cell_type": "markdown",
      "metadata": {
        "id": "pjRAYZGJabXP"
      },
      "source": [
        "### Критерий информативности<a class=\"anchor\" id=\"criterion\"></a>"
      ]
    },
    {
      "cell_type": "markdown",
      "metadata": {
        "id": "L-j5hnV_abXR"
      },
      "source": [
        "В задаче **классификации** есть несколько способов определить критерий информативности.\n",
        "\n",
        "Обозначим через $p_{k}$ долю объектов класса $k$ в выборке $X$:\n",
        "\n",
        "$$p_{k} = \\frac{1}{|X|}\\sum_{i\\in X}[y_{i} = k].$$\n",
        "\n",
        "$p_{k}$ будет характеризовать вероятность выдачи класса $k$.\n",
        "\n",
        "_Энтропийный критерий_ или _энтропия Шеннона_ :\n",
        "\n",
        "$$H(X) = - \\sum^{K}_{k=1}p_{k}\\text{log}_{2}p_{k}.$$\n",
        "\n",
        "Минимум энтропии также достигается когда все объекты относятся к одному класссу, а максимум - при равномерном распределении. Стоит отметить, что в формуле полагается, что $0\\text{log}_{2}0=0.$\n",
        "\n",
        "_Критерий Джини_ или _индекс Джини_ выглядит следующим образом:\n",
        "\n",
        "$$H(X) = \\sum^{K}_{k=1}p_{k}(1-p_{k}) = 1 - \\sum_{k=1}^K{p_k^2} ,$$\n",
        "\n",
        "где $K$ - количество классов в наборе данных $X$.\n",
        "\n",
        "Его минимум достигается когда все объекты в подмножестве относятся к одному классу, а максимум - при равном содержании объектов всех класов. Критерий информативности Джини можно интерпретировать как вероятность ошибки случайного классификатора."
      ]
    },
    {
      "cell_type": "markdown",
      "metadata": {
        "id": "Zf7vaRJD1FIQ"
      },
      "source": [
        "**Энтропия и деревья принятия решений**"
      ]
    },
    {
      "cell_type": "markdown",
      "metadata": {
        "id": "iwArsmgdROL5"
      },
      "source": [
        "![entropy.png](data:image/png;base64,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)"
      ]
    },
    {
      "cell_type": "code",
      "execution_count": null,
      "metadata": {
        "id": "f-aiq-OEROL6"
      },
      "outputs": [],
      "source": [
        "blue = 9\n",
        "yellow = 11\n",
        "total = blue + yellow\n",
        "\n",
        "p_blue = blue / total\n",
        "p_yellow = yellow / total\n",
        "p_blue, p_yellow"
      ]
    },
    {
      "cell_type": "code",
      "execution_count": null,
      "metadata": {
        "id": "iV49C4ubROL9"
      },
      "outputs": [],
      "source": [
        "e0 = - (p_blue * np.log2(p_blue) + p_yellow * np.log2(p_yellow))\n",
        "e0"
      ]
    },
    {
      "cell_type": "markdown",
      "metadata": {
        "id": "p5KXfya8ROL9"
      },
      "source": [
        "Энтропия левой группы:"
      ]
    },
    {
      "cell_type": "code",
      "execution_count": null,
      "metadata": {
        "id": "gD-qEvXpROL_"
      },
      "outputs": [],
      "source": [
        "blue = 8\n",
        "yellow = 5\n",
        "total1 = blue + yellow\n",
        "\n",
        "p_blue = blue / total1\n",
        "p_yellow = yellow / total1\n",
        "p_blue, p_yellow"
      ]
    },
    {
      "cell_type": "code",
      "execution_count": null,
      "metadata": {
        "id": "m--7DH8WROMB"
      },
      "outputs": [],
      "source": [
        "e1 = - (p_blue * np.log2(p_blue) + p_yellow * np.log2(p_yellow))\n",
        "e1"
      ]
    },
    {
      "cell_type": "markdown",
      "metadata": {
        "id": "yZnEYe-tROMC"
      },
      "source": [
        "Энтропия правой группы:"
      ]
    },
    {
      "cell_type": "code",
      "execution_count": null,
      "metadata": {
        "id": "S1NvK_jYROME"
      },
      "outputs": [],
      "source": [
        "blue = 1\n",
        "yellow = 6\n",
        "total2 = blue + yellow\n",
        "\n",
        "p_blue = blue / total2\n",
        "p_yellow = yellow / total2\n",
        "p_blue, p_yellow"
      ]
    },
    {
      "cell_type": "code",
      "execution_count": null,
      "metadata": {
        "id": "uURRMCWdROMF"
      },
      "outputs": [],
      "source": [
        "e2 = - (p_blue * np.log2(p_blue) + p_yellow * np.log2(p_yellow))\n",
        "e2"
      ]
    },
    {
      "cell_type": "code",
      "execution_count": null,
      "metadata": {
        "id": "63Zj0fSOROMJ"
      },
      "outputs": [],
      "source": [
        "ig = e0 - total1 / total * e1 - total2 / total * e2\n",
        "ig"
      ]
    },
    {
      "cell_type": "markdown",
      "metadata": {
        "id": "qtREyzjCROMK"
      },
      "source": [
        "**Реализуем критерий информативности Джини**"
      ]
    },
    {
      "cell_type": "markdown",
      "metadata": {
        "id": "iLdUXmB8ROMM"
      },
      "source": [
        "$$H(X) = \\sum^{K}_{k=1}p_{k}(1-p_{k}) = 1 - \\sum_{k=1}^K{p_k^2} ,$$\n"
      ]
    },
    {
      "cell_type": "code",
      "execution_count": null,
      "metadata": {
        "id": "gA6WcpRiROMN"
      },
      "outputs": [],
      "source": [
        "# Расчет критерия Джини\n",
        "def gini(labels):\n",
        "    labels = list(labels)\n",
        "\n",
        "    #  подсчет количества объектов разных классов\n",
        "    classes = {}\n",
        "    for label in labels:\n",
        "        if label not in classes:\n",
        "            classes[label] = 0\n",
        "        classes[label] += 1\n",
        "\n",
        "    #  расчет критерия\n",
        "    gini = 1\n",
        "    for label in classes:\n",
        "        p = classes[label] / len(labels)\n",
        "        gini -= p ** 2\n",
        "\n",
        "    return gini"
      ]
    },
    {
      "cell_type": "code",
      "execution_count": null,
      "metadata": {
        "id": "zgihH9dUROMP"
      },
      "outputs": [],
      "source": [
        "def gini(labels):\n",
        "    labels = list(labels)\n",
        "    set_labels = set(labels)\n",
        "\n",
        "    gini = 1\n",
        "    for label in set_labels:\n",
        "        p = labels.count(label) / len(labels)\n",
        "        gini -= p ** 2\n",
        "\n",
        "    return gini"
      ]
    },
    {
      "cell_type": "code",
      "execution_count": null,
      "metadata": {
        "id": "9kl5bUh3ROMS"
      },
      "outputs": [],
      "source": [
        "# Расчет прироста\n",
        "\n",
        "def gain(left_labels, right_labels, root_gini):\n",
        "\n",
        "    # доля выборки, ушедшая в левое поддерево\n",
        "    p = float(left_labels.shape[0]) / (left_labels.shape[0] + right_labels.shape[0])\n",
        "\n",
        "    return root_gini - p * gini(left_labels) - (1 - p) * gini(right_labels)"
      ]
    },
    {
      "cell_type": "code",
      "execution_count": null,
      "metadata": {
        "id": "xTNCwUavROMV"
      },
      "outputs": [],
      "source": [
        "gini0 = gini(df['cardio'])\n",
        "gini0"
      ]
    },
    {
      "cell_type": "code",
      "execution_count": null,
      "metadata": {
        "id": "8HIU1NllROMY"
      },
      "outputs": [],
      "source": [
        "t = 50.5"
      ]
    },
    {
      "cell_type": "code",
      "execution_count": null,
      "metadata": {
        "id": "jTPyH6mXROMZ"
      },
      "outputs": [],
      "source": [
        "df1 = df[df['age'] <= t]\n",
        "df2 = df[df['age'] > t]"
      ]
    },
    {
      "cell_type": "code",
      "execution_count": null,
      "metadata": {
        "id": "XlxzS7IxROMb"
      },
      "outputs": [],
      "source": [
        "df1"
      ]
    },
    {
      "cell_type": "code",
      "execution_count": null,
      "metadata": {
        "id": "RzumRVrmROMd"
      },
      "outputs": [],
      "source": [
        "gini(df1['cardio'])"
      ]
    },
    {
      "cell_type": "code",
      "execution_count": null,
      "metadata": {
        "id": "zlyTP9xjROMf"
      },
      "outputs": [],
      "source": [
        "df2"
      ]
    },
    {
      "cell_type": "code",
      "execution_count": null,
      "metadata": {
        "id": "yi_5gliNROMh"
      },
      "outputs": [],
      "source": [
        "gini(df2['cardio'])"
      ]
    },
    {
      "cell_type": "code",
      "execution_count": null,
      "metadata": {
        "id": "7t7l_7DjROMj"
      },
      "outputs": [],
      "source": [
        "features"
      ]
    },
    {
      "cell_type": "code",
      "execution_count": null,
      "metadata": {
        "id": "rYypS7rnROMl"
      },
      "outputs": [],
      "source": [
        "features = ['age', 'gender', 'height']\n",
        "fig, ax = plt.subplots(figsize=(5, 3))\n",
        "plot_tree(dt_clsf, feature_names=list(features), class_names=['0', '1'],fontsize = 9, filled=True, impurity=True);\n",
        "plt.show()"
      ]
    },
    {
      "cell_type": "code",
      "execution_count": null,
      "metadata": {
        "id": "iy7JXoEDROMn"
      },
      "outputs": [],
      "source": [
        "gain(df1['cardio'], df2['cardio'], gini0)"
      ]
    },
    {
      "cell_type": "markdown",
      "metadata": {
        "id": "OUZfaAV7abXQ"
      },
      "source": [
        "В случае **регрессии** разброс будет характеризоваться дисперсией или же *среднеквадратичным отклонением*, поэтому критерий информативности будет записан в виде\n",
        "\n",
        "$$H(X) = \\frac{1}{X}\\sum_{i\\in X}(y_{i} - \\bar{y}(X))^{2},$$\n",
        "\n",
        "или же *среднеабсолютным отклонением*:\n",
        "\n",
        "$$H(X) = \\frac{1}{X}\\sum_{i\\in X}(|y_{i} - \\bar{y}(X)|),$$\n",
        "\n",
        "\n",
        "где $\\bar{y}(X)$ - среднее значение ответа в выборке $X$:\n",
        "\n",
        "$$\\bar{y}(X) = \\frac{1}{|X|}\\sum_{i\\in X}y_{i}.$$"
      ]
    },
    {
      "cell_type": "markdown",
      "metadata": {
        "id": "KEaI9IFBROMq"
      },
      "source": [
        "**Реализуем критерий информативности среднеквадратичного отклонения**"
      ]
    },
    {
      "cell_type": "code",
      "execution_count": null,
      "metadata": {
        "id": "E0UXWg73ROMr"
      },
      "outputs": [],
      "source": [
        "def mse(array):\n",
        "    mean = array.mean()\n",
        "    return np.mean((array - mean)**2)\n",
        "\n",
        "mse(df['age'])"
      ]
    },
    {
      "cell_type": "code",
      "execution_count": null,
      "metadata": {
        "id": "svOvCA_dROMt"
      },
      "outputs": [],
      "source": [
        "df1 = df[df['cardio'] <= 0.5]"
      ]
    },
    {
      "cell_type": "code",
      "execution_count": null,
      "metadata": {
        "id": "HZZ7FhaLROMu"
      },
      "outputs": [],
      "source": [
        "df1"
      ]
    },
    {
      "cell_type": "code",
      "execution_count": null,
      "metadata": {
        "id": "fkXzUQNlROMw"
      },
      "outputs": [],
      "source": [
        "mse(df1['age'])"
      ]
    },
    {
      "cell_type": "code",
      "execution_count": null,
      "metadata": {
        "id": "CqJnXwjOROMy"
      },
      "outputs": [],
      "source": [
        "df2 = df[df['cardio'] > 0.5]"
      ]
    },
    {
      "cell_type": "code",
      "execution_count": null,
      "metadata": {
        "id": "Upj-gvioROM0"
      },
      "outputs": [],
      "source": [
        "mse(df2['age'])"
      ]
    },
    {
      "cell_type": "code",
      "execution_count": null,
      "metadata": {
        "id": "g957stpCROM2"
      },
      "outputs": [],
      "source": [
        "df2"
      ]
    },
    {
      "cell_type": "code",
      "execution_count": null,
      "metadata": {
        "id": "xsbH8xkWROM4"
      },
      "outputs": [],
      "source": [
        "features = ['cardio', 'gender', 'height']\n",
        "fig, ax = plt.subplots(figsize=(5, 3))\n",
        "plot_tree(dt_regr, feature_names=list(features), filled=True, impurity=True);"
      ]
    },
    {
      "cell_type": "code",
      "execution_count": null,
      "metadata": {
        "id": "Ih28moAFROM5"
      },
      "outputs": [],
      "source": [
        "gain(df1['age'], df2['age'], mse(df['age']))"
      ]
    },
    {
      "cell_type": "markdown",
      "metadata": {
        "id": "wQbZUf1OabXS"
      },
      "source": [
        "### Критерии останова<a class=\"anchor\" id=\"stop\"></a>"
      ]
    },
    {
      "cell_type": "markdown",
      "metadata": {
        "id": "fNr4Fc7tabXS"
      },
      "source": [
        "_Критерии останова_ - это критерии, которые показывают, нужно ли остановить процесс построения дерева. Правильный выбор критериев останова роста дерева может существенно повлиять на его качество. Существует большое количество возможных ограничений:\n",
        "\n",
        "- Ограничение максимальной глубины дерева.\n",
        "\n",
        "\n",
        "- Ограничение максимального количества листьев.\n",
        "\n",
        "\n",
        "- Ограничение минимального количества $n$ объектов в листе.\n",
        "\n",
        "\n",
        "- Останов в случае, когда все объекты в листе относятся к одному классу.\n",
        "\n",
        "\n",
        "Подбор оптимальных критериев - сложная задача, которая обычно решается методом кросс-валидации."
      ]
    },
    {
      "cell_type": "markdown",
      "metadata": {
        "id": "sWm0sO22abXZ"
      },
      "source": [
        "## Реализация дерева решений<a class='anchor' id='implement_dt'>"
      ]
    },
    {
      "cell_type": "markdown",
      "metadata": {
        "id": "9yZFTHXJabXa"
      },
      "source": [
        "Реализуем алгоритм алгоритм работы дерева решений своими руками."
      ]
    },
    {
      "cell_type": "code",
      "execution_count": null,
      "metadata": {
        "id": "6FZaieu8abXe"
      },
      "outputs": [],
      "source": [
        "# сгенерируем данные\n",
        "classification_data, classification_labels = make_classification(n_features=2, n_informative=2,\n",
        "                                                                 n_classes=2, n_redundant=0,\n",
        "                                                                 n_clusters_per_class=1, random_state=5)\n",
        "classification_data, classification_labels = make_circles(n_samples=30, random_state=5)"
      ]
    },
    {
      "cell_type": "code",
      "execution_count": null,
      "metadata": {
        "id": "FHpOr1k6abXg",
        "scrolled": false
      },
      "outputs": [],
      "source": [
        "# визуализируем сгенерированные данные\n",
        "colors = ListedColormap(['red', 'blue'])\n",
        "light_colors = ListedColormap(['lightcoral', 'lightblue'])\n",
        "\n",
        "plt.figure(figsize=(4,4))\n",
        "plt.scatter(list(map(lambda x: x[0], classification_data)), list(map(lambda x: x[1], classification_data)),\n",
        "              c=classification_labels, cmap=colors);"
      ]
    },
    {
      "cell_type": "code",
      "execution_count": null,
      "metadata": {
        "id": "Duu45IJUabXi"
      },
      "outputs": [],
      "source": [
        "# Реализуем класс узла\n",
        "\n",
        "class Node:\n",
        "\n",
        "    def __init__(self, index, t, true_branch, false_branch):\n",
        "        self.index = index  # индекс признака, по которому ведется сравнение с порогом в этом узле\n",
        "        self.t = t  # значение порога\n",
        "        self.true_branch = true_branch  # поддерево, удовлетворяющее условию в узле\n",
        "        self.false_branch = false_branch  # поддерево, не удовлетворяющее условию в узле"
      ]
    },
    {
      "cell_type": "code",
      "execution_count": null,
      "metadata": {
        "id": "QY8oNtakabXl"
      },
      "outputs": [],
      "source": [
        "# И класс терминального узла (листа)\n",
        "\n",
        "class Leaf:\n",
        "\n",
        "    def __init__(self, data, labels):\n",
        "        self.data = data\n",
        "        self.labels = labels\n",
        "        self.prediction = self.predict()\n",
        "\n",
        "    def predict(self):\n",
        "        # подсчет количества объектов разных классов\n",
        "        classes = {}  # сформируем словарь \"класс: количество объектов\"\n",
        "        for label in self.labels:\n",
        "            if label not in classes:\n",
        "                classes[label] = 0\n",
        "            classes[label] += 1\n",
        "\n",
        "        # найдем класс, количество объектов которого будет максимальным в этом листе и вернем его\n",
        "        prediction = max(classes, key=classes.get)\n",
        "        return prediction"
      ]
    },
    {
      "cell_type": "markdown",
      "metadata": {
        "id": "sVKRf-ubRONS"
      },
      "source": [
        "$$H(X) = \\sum^{K}_{k=1}p_{k}(1-p_{k}) = 1 - \\sum_{k=1}^K{p_k^2} ,$$\n"
      ]
    },
    {
      "cell_type": "code",
      "execution_count": null,
      "metadata": {
        "id": "uBdli3WDabXn"
      },
      "outputs": [],
      "source": [
        "# Расчет критерия Джини\n",
        "def gini(labels):\n",
        "    #  подсчет количества объектов разных классов\n",
        "    classes = {}\n",
        "    for label in labels:\n",
        "        if label not in classes:\n",
        "            classes[label] = 0\n",
        "        classes[label] += 1\n",
        "\n",
        "    #  расчет критерия\n",
        "    impurity = 1\n",
        "    for label in classes:\n",
        "        p = classes[label] / len(labels)\n",
        "        impurity -= p ** 2\n",
        "\n",
        "    return impurity"
      ]
    },
    {
      "cell_type": "markdown",
      "metadata": {
        "id": "qaSYM4ZBRONW"
      },
      "source": [
        "$$H(X_{m}) - \\frac{|X_{l}|}{|X_{m}|}H(X_{l}) - \\frac{|X_{r}|}{|X_{m}|}H(X_{r}),$$\n"
      ]
    },
    {
      "cell_type": "code",
      "execution_count": null,
      "metadata": {
        "id": "9vvLDhuRabXr"
      },
      "outputs": [],
      "source": [
        "# Расчет прироста\n",
        "\n",
        "def gain(left_labels, right_labels, root_gini):\n",
        "\n",
        "    # доля выборки, ушедшая в левое поддерево\n",
        "    p = float(left_labels.shape[0]) / (left_labels.shape[0] + right_labels.shape[0])\n",
        "\n",
        "    return root_gini - p * gini(left_labels) - (1 - p) * gini(right_labels)"
      ]
    },
    {
      "cell_type": "code",
      "execution_count": null,
      "metadata": {
        "id": "nhWkphi3abXt"
      },
      "outputs": [],
      "source": [
        "# Разбиение датасета в узле\n",
        "\n",
        "def split(data, labels, column_index, t):\n",
        "    left = np.where(data[:, column_index] <= t)\n",
        "    right = np.where(data[:, column_index] > t)\n",
        "\n",
        "    true_data = data[left]\n",
        "    false_data = data[right]\n",
        "\n",
        "    true_labels = labels[left]\n",
        "    false_labels = labels[right]\n",
        "\n",
        "    return true_data, false_data, true_labels, false_labels"
      ]
    },
    {
      "cell_type": "code",
      "execution_count": null,
      "metadata": {
        "id": "5wi8Fbs_abXw"
      },
      "outputs": [],
      "source": [
        "# Нахождение наилучшего разбиения\n",
        "\n",
        "def find_best_split(data, labels):\n",
        "    min_samples_leaf = 3\n",
        "\n",
        "    root_gini = gini(labels)\n",
        "\n",
        "    best_gain = 0\n",
        "    best_t = None\n",
        "    best_index = None\n",
        "\n",
        "    n_features = data.shape[1]\n",
        "\n",
        "    for index in range(n_features):\n",
        "        # будем проверять только уникальные значения признака, исключая повторения\n",
        "        t_values = np.unique(data[:, index])\n",
        "\n",
        "        for t in t_values:\n",
        "            true_data, false_data, true_labels, false_labels = split(data, labels, index, t)\n",
        "\n",
        "            if len(true_data) < min_samples_leaf or len(false_data) < min_samples_leaf:\n",
        "               continue\n",
        "\n",
        "            current_gain = gain(true_labels, false_labels, root_gini)\n",
        "\n",
        "            #  выбираем порог, на котором получается максимальный прирост качества\n",
        "            if current_gain > best_gain:\n",
        "                best_gain, best_t, best_index = current_gain, t, index\n",
        "\n",
        "    return best_gain, best_t, best_index"
      ]
    },
    {
      "cell_type": "code",
      "execution_count": null,
      "metadata": {
        "id": "f1__qSXSabXy"
      },
      "outputs": [],
      "source": [
        "import time\n",
        "# Построение дерева с помощью рекурсивной функции\n",
        "\n",
        "def build_tree(data, labels, depth=0, leaf_count=[0], max_leaf_nodes=10, min_samples_leaf=2, max_depth=10, alpha=0.01):\n",
        "\n",
        "    if leaf_count[0] >= max_leaf_nodes:\n",
        "        return None\n",
        "\n",
        "    gain, t, index = find_best_split(data, labels)\n",
        "\n",
        "    #  Базовый случай - прекращаем рекурсию, когда нет прироста в качества\n",
        "    if (depth >= max_depth or\n",
        "        gain < alpha):\n",
        "        leaf_count[0]+=1\n",
        "        return Leaf(data, labels)\n",
        "\n",
        "    true_data, false_data, true_labels, false_labels = split(data, labels, index, t)\n",
        "\n",
        "\n",
        "    # Рекурсивно строим два поддерева\n",
        "    true_branch = build_tree(true_data, true_labels, depth+1, leaf_count, max_leaf_nodes, min_samples_leaf, max_depth, alpha)\n",
        "\n",
        "#     print(time.time(), true_branch)\n",
        "    false_branch = build_tree(false_data, false_labels, depth+1, leaf_count, max_leaf_nodes, min_samples_leaf, max_depth, alpha)\n",
        "\n",
        "#     print(time.time(), false_branch)\n",
        "\n",
        "    if true_branch is None and false_branch is None:\n",
        "        leaf_count[0] += 1\n",
        "        return Leaf(labels)\n",
        "\n",
        "    # Возвращаем класс узла со всеми поддеревьями, то есть целого дерева\n",
        "    return Node(index, t, true_branch, false_branch)"
      ]
    },
    {
      "cell_type": "code",
      "execution_count": null,
      "metadata": {
        "id": "F7ruKazCabX3"
      },
      "outputs": [],
      "source": [
        "def classify_object(obj, node):\n",
        "\n",
        "    #  Останавливаем рекурсию, если достигли листа\n",
        "    if isinstance(node, Leaf):\n",
        "        answer = node.prediction\n",
        "        return answer\n",
        "\n",
        "    if obj[node.index] <= node.t:\n",
        "        return classify_object(obj, node.true_branch)\n",
        "    else:\n",
        "        return classify_object(obj, node.false_branch)"
      ]
    },
    {
      "cell_type": "code",
      "execution_count": null,
      "metadata": {
        "id": "SLOdTAqdabX7"
      },
      "outputs": [],
      "source": [
        "def predict(data, tree):\n",
        "\n",
        "    classes = []\n",
        "    for obj in data:\n",
        "        prediction = classify_object(obj, tree)\n",
        "        classes.append(prediction)\n",
        "    return classes"
      ]
    },
    {
      "cell_type": "code",
      "execution_count": null,
      "metadata": {
        "id": "wnDPkwVJabYA",
        "colab": {
          "base_uri": "https://localhost:8080/",
          "height": 211
        },
        "outputId": "ac41d0c1-c2e4-412c-afce-cedf94b7a656"
      },
      "outputs": [
        {
          "output_type": "error",
          "ename": "NameError",
          "evalue": "name 'classification_data' is not defined",
          "traceback": [
            "\u001b[0;31m---------------------------------------------------------------------------\u001b[0m",
            "\u001b[0;31mNameError\u001b[0m                                 Traceback (most recent call last)",
            "\u001b[0;32m<ipython-input-28-b2b74c33c738>\u001b[0m in \u001b[0;36m<cell line: 5>\u001b[0;34m()\u001b[0m\n\u001b[1;32m      3\u001b[0m \u001b[0;32mfrom\u001b[0m \u001b[0msklearn\u001b[0m\u001b[0;34m.\u001b[0m\u001b[0mmodel_selection\u001b[0m \u001b[0;32mimport\u001b[0m \u001b[0mtrain_test_split\u001b[0m\u001b[0;34m\u001b[0m\u001b[0;34m\u001b[0m\u001b[0m\n\u001b[1;32m      4\u001b[0m \u001b[0;34m\u001b[0m\u001b[0m\n\u001b[0;32m----> 5\u001b[0;31m train_data, test_data, train_labels, test_labels = train_test_split(classification_data,\n\u001b[0m\u001b[1;32m      6\u001b[0m                                                                     \u001b[0mclassification_labels\u001b[0m\u001b[0;34m,\u001b[0m\u001b[0;34m\u001b[0m\u001b[0;34m\u001b[0m\u001b[0m\n\u001b[1;32m      7\u001b[0m                                                                     \u001b[0mtest_size\u001b[0m\u001b[0;34m=\u001b[0m\u001b[0;36m0.3\u001b[0m\u001b[0;34m,\u001b[0m\u001b[0;34m\u001b[0m\u001b[0;34m\u001b[0m\u001b[0m\n",
            "\u001b[0;31mNameError\u001b[0m: name 'classification_data' is not defined"
          ]
        }
      ],
      "source": [
        "# Разобьем выборку на обучающую и тестовую\n",
        "\n",
        "from sklearn.model_selection import train_test_split\n",
        "\n",
        "train_data, test_data, train_labels, test_labels = train_test_split(classification_data,\n",
        "                                                                    classification_labels,\n",
        "                                                                    test_size=0.3,\n",
        "                                                                    random_state=1)"
      ]
    },
    {
      "cell_type": "code",
      "execution_count": null,
      "metadata": {
        "id": "UbbvkqvOabYD"
      },
      "outputs": [],
      "source": [
        "# Построим дерево по обучающей выборке\n",
        "my_tree = build_tree(train_data, train_labels)"
      ]
    },
    {
      "cell_type": "code",
      "execution_count": null,
      "metadata": {
        "id": "GF1rVs9VabYG"
      },
      "outputs": [],
      "source": [
        "# Напечатаем ход нашего дерева\n",
        "def print_tree(node, spacing=\"\"):\n",
        "\n",
        "    # Если лист, то выводим его прогноз\n",
        "    if isinstance(node, Leaf):\n",
        "        print(spacing + \"Прогноз:\", node.prediction)\n",
        "        return\n",
        "\n",
        "    # Выведем значение индекса и порога на этом узле\n",
        "    print(spacing + 'Индекс', str(node.index), '<=', str(node.t))\n",
        "\n",
        "    # Рекурсионный вызов функции на положительном поддереве\n",
        "    print(spacing + '--> True:')\n",
        "    print_tree(node.true_branch, spacing + \"  \")\n",
        "\n",
        "    # Рекурсионный вызов функции на отрицательном поддереве\n",
        "    print(spacing + '--> False:')\n",
        "    print_tree(node.false_branch, spacing + \"  \")\n",
        "\n",
        "print_tree(my_tree)"
      ]
    },
    {
      "cell_type": "code",
      "execution_count": null,
      "metadata": {
        "id": "CyvzFQp3abYI"
      },
      "outputs": [],
      "source": [
        "# Получим ответы для обучающей выборки\n",
        "train_answers = predict(train_data, my_tree)"
      ]
    },
    {
      "cell_type": "code",
      "execution_count": null,
      "metadata": {
        "id": "Rl6IyN8yabYN"
      },
      "outputs": [],
      "source": [
        "# И получим ответы для тестовой выборки\n",
        "answers = predict(test_data, my_tree)"
      ]
    },
    {
      "cell_type": "code",
      "execution_count": null,
      "metadata": {
        "id": "2odXAe7vabYP"
      },
      "outputs": [],
      "source": [
        "# Введем функцию подсчета точности как доли правильных ответов\n",
        "def accuracy_metric(actual, predicted):\n",
        "    correct = 0\n",
        "    for i in range(len(actual)):\n",
        "        if actual[i] == predicted[i]:\n",
        "            correct += 1\n",
        "    return correct / float(len(actual)) * 100.0"
      ]
    },
    {
      "cell_type": "code",
      "execution_count": null,
      "metadata": {
        "id": "Jn0L6r8CabYS"
      },
      "outputs": [],
      "source": [
        "# Точность на обучающей выборке\n",
        "train_accuracy = accuracy_metric(train_labels, train_answers)\n",
        "train_accuracy"
      ]
    },
    {
      "cell_type": "code",
      "execution_count": null,
      "metadata": {
        "id": "D__eGtLRabYU"
      },
      "outputs": [],
      "source": [
        "# Точность на тестовой выборке\n",
        "test_accuracy = accuracy_metric(test_labels, answers)\n",
        "test_accuracy"
      ]
    },
    {
      "cell_type": "code",
      "execution_count": null,
      "metadata": {
        "id": "TEHbV9hXabYW"
      },
      "outputs": [],
      "source": [
        "# Визуализируем дерево на графике\n",
        "\n",
        "def get_meshgrid(data, step=.05, border=1.2):\n",
        "    x_min, x_max = data[:, 0].min() - border, data[:, 0].max() + border\n",
        "    y_min, y_max = data[:, 1].min() - border, data[:, 1].max() + border\n",
        "    return np.meshgrid(np.arange(x_min, x_max, step), np.arange(y_min, y_max, step))\n",
        "\n",
        "\n",
        "def visualize(train_data, test_data):\n",
        "    plt.figure(figsize = (8, 4))\n",
        "\n",
        "    # график обучающей выборки\n",
        "    plt.subplot(1,2,1)\n",
        "    xx, yy = get_meshgrid(train_data)\n",
        "    mesh_predictions = np.array(predict(np.c_[xx.ravel(), yy.ravel()], my_tree)).reshape(xx.shape)\n",
        "    plt.pcolormesh(xx, yy, mesh_predictions, cmap = light_colors)\n",
        "    plt.scatter(train_data[:, 0], train_data[:, 1], c = train_labels, cmap = colors)\n",
        "    plt.title(f'Train accuracy={train_accuracy:.2f}')\n",
        "\n",
        "    # график тестовой выборки\n",
        "    plt.subplot(1,2,2)\n",
        "    plt.pcolormesh(xx, yy, mesh_predictions, cmap = light_colors)\n",
        "    plt.scatter(test_data[:, 0], test_data[:, 1], c = test_labels, cmap = colors)\n",
        "    plt.title(f'Test accuracy={test_accuracy:.2f}')"
      ]
    },
    {
      "cell_type": "code",
      "execution_count": null,
      "metadata": {
        "id": "PPOnWXN4RON4"
      },
      "outputs": [],
      "source": [
        "visualize(train_data, test_data)"
      ]
    },
    {
      "cell_type": "markdown",
      "metadata": {
        "id": "DC48TQN9abYY"
      },
      "source": [
        "Как видно, дерево строит кусочно-постоянную разделяющую гиперплоскость, то есть состоящую из прямых, параллельных осям. Чем глубже дерево, тем сложнее гиперплоскость. Также происходит и в случае регрессии - график зависимости целевого значения восстанавливается кусочно-постоянной функцией."
      ]
    },
    {
      "cell_type": "markdown",
      "metadata": {
        "id": "C0CZtoV0RON_"
      },
      "source": [
        "### Пример с датасетом сердечно-сосудистых заболеваний"
      ]
    },
    {
      "cell_type": "code",
      "execution_count": null,
      "metadata": {
        "colab": {
          "base_uri": "https://localhost:8080/",
          "height": 356
        },
        "id": "PeKKZKnnROOB",
        "outputId": "7999af9e-45df-4401-e7ff-de10d8cc1277"
      },
      "outputs": [
        {
          "output_type": "error",
          "ename": "FileNotFoundError",
          "evalue": "[Errno 2] No such file or directory: 'cardio.csv'",
          "traceback": [
            "\u001b[0;31m---------------------------------------------------------------------------\u001b[0m",
            "\u001b[0;31mFileNotFoundError\u001b[0m                         Traceback (most recent call last)",
            "\u001b[0;32m<ipython-input-11-4ed1304c1dfb>\u001b[0m in \u001b[0;36m<cell line: 1>\u001b[0;34m()\u001b[0m\n\u001b[0;32m----> 1\u001b[0;31m \u001b[0mdf_full\u001b[0m \u001b[0;34m=\u001b[0m \u001b[0mpd\u001b[0m\u001b[0;34m.\u001b[0m\u001b[0mread_csv\u001b[0m\u001b[0;34m(\u001b[0m\u001b[0;34m'cardio.csv'\u001b[0m\u001b[0;34m,\u001b[0m \u001b[0msep\u001b[0m\u001b[0;34m=\u001b[0m\u001b[0;34m';'\u001b[0m\u001b[0;34m)\u001b[0m\u001b[0;34m\u001b[0m\u001b[0;34m\u001b[0m\u001b[0m\n\u001b[0m\u001b[1;32m      2\u001b[0m \u001b[0;34m\u001b[0m\u001b[0m\n\u001b[1;32m      3\u001b[0m \u001b[0mfeatures\u001b[0m \u001b[0;34m=\u001b[0m \u001b[0;34m[\u001b[0m\u001b[0;34m'age'\u001b[0m\u001b[0;34m,\u001b[0m \u001b[0;34m'height'\u001b[0m\u001b[0;34m]\u001b[0m\u001b[0;34m\u001b[0m\u001b[0;34m\u001b[0m\u001b[0m\n\u001b[1;32m      4\u001b[0m \u001b[0mtarget\u001b[0m \u001b[0;34m=\u001b[0m \u001b[0;34m[\u001b[0m\u001b[0;34m'cardio'\u001b[0m\u001b[0;34m]\u001b[0m\u001b[0;34m\u001b[0m\u001b[0;34m\u001b[0m\u001b[0m\n\u001b[1;32m      5\u001b[0m \u001b[0;34m\u001b[0m\u001b[0m\n",
            "\u001b[0;32m/usr/local/lib/python3.10/dist-packages/pandas/io/parsers/readers.py\u001b[0m in \u001b[0;36mread_csv\u001b[0;34m(filepath_or_buffer, sep, delimiter, header, names, index_col, usecols, dtype, engine, converters, true_values, false_values, skipinitialspace, skiprows, skipfooter, nrows, na_values, keep_default_na, na_filter, verbose, skip_blank_lines, parse_dates, infer_datetime_format, keep_date_col, date_parser, date_format, dayfirst, cache_dates, iterator, chunksize, compression, thousands, decimal, lineterminator, quotechar, quoting, doublequote, escapechar, comment, encoding, encoding_errors, dialect, on_bad_lines, delim_whitespace, low_memory, memory_map, float_precision, storage_options, dtype_backend)\u001b[0m\n\u001b[1;32m   1024\u001b[0m     \u001b[0mkwds\u001b[0m\u001b[0;34m.\u001b[0m\u001b[0mupdate\u001b[0m\u001b[0;34m(\u001b[0m\u001b[0mkwds_defaults\u001b[0m\u001b[0;34m)\u001b[0m\u001b[0;34m\u001b[0m\u001b[0;34m\u001b[0m\u001b[0m\n\u001b[1;32m   1025\u001b[0m \u001b[0;34m\u001b[0m\u001b[0m\n\u001b[0;32m-> 1026\u001b[0;31m     \u001b[0;32mreturn\u001b[0m \u001b[0m_read\u001b[0m\u001b[0;34m(\u001b[0m\u001b[0mfilepath_or_buffer\u001b[0m\u001b[0;34m,\u001b[0m \u001b[0mkwds\u001b[0m\u001b[0;34m)\u001b[0m\u001b[0;34m\u001b[0m\u001b[0;34m\u001b[0m\u001b[0m\n\u001b[0m\u001b[1;32m   1027\u001b[0m \u001b[0;34m\u001b[0m\u001b[0m\n\u001b[1;32m   1028\u001b[0m \u001b[0;34m\u001b[0m\u001b[0m\n",
            "\u001b[0;32m/usr/local/lib/python3.10/dist-packages/pandas/io/parsers/readers.py\u001b[0m in \u001b[0;36m_read\u001b[0;34m(filepath_or_buffer, kwds)\u001b[0m\n\u001b[1;32m    618\u001b[0m \u001b[0;34m\u001b[0m\u001b[0m\n\u001b[1;32m    619\u001b[0m     \u001b[0;31m# Create the parser.\u001b[0m\u001b[0;34m\u001b[0m\u001b[0;34m\u001b[0m\u001b[0m\n\u001b[0;32m--> 620\u001b[0;31m     \u001b[0mparser\u001b[0m \u001b[0;34m=\u001b[0m \u001b[0mTextFileReader\u001b[0m\u001b[0;34m(\u001b[0m\u001b[0mfilepath_or_buffer\u001b[0m\u001b[0;34m,\u001b[0m \u001b[0;34m**\u001b[0m\u001b[0mkwds\u001b[0m\u001b[0;34m)\u001b[0m\u001b[0;34m\u001b[0m\u001b[0;34m\u001b[0m\u001b[0m\n\u001b[0m\u001b[1;32m    621\u001b[0m \u001b[0;34m\u001b[0m\u001b[0m\n\u001b[1;32m    622\u001b[0m     \u001b[0;32mif\u001b[0m \u001b[0mchunksize\u001b[0m \u001b[0;32mor\u001b[0m \u001b[0miterator\u001b[0m\u001b[0;34m:\u001b[0m\u001b[0;34m\u001b[0m\u001b[0;34m\u001b[0m\u001b[0m\n",
            "\u001b[0;32m/usr/local/lib/python3.10/dist-packages/pandas/io/parsers/readers.py\u001b[0m in \u001b[0;36m__init__\u001b[0;34m(self, f, engine, **kwds)\u001b[0m\n\u001b[1;32m   1618\u001b[0m \u001b[0;34m\u001b[0m\u001b[0m\n\u001b[1;32m   1619\u001b[0m         \u001b[0mself\u001b[0m\u001b[0;34m.\u001b[0m\u001b[0mhandles\u001b[0m\u001b[0;34m:\u001b[0m \u001b[0mIOHandles\u001b[0m \u001b[0;34m|\u001b[0m \u001b[0;32mNone\u001b[0m \u001b[0;34m=\u001b[0m \u001b[0;32mNone\u001b[0m\u001b[0;34m\u001b[0m\u001b[0;34m\u001b[0m\u001b[0m\n\u001b[0;32m-> 1620\u001b[0;31m         \u001b[0mself\u001b[0m\u001b[0;34m.\u001b[0m\u001b[0m_engine\u001b[0m \u001b[0;34m=\u001b[0m \u001b[0mself\u001b[0m\u001b[0;34m.\u001b[0m\u001b[0m_make_engine\u001b[0m\u001b[0;34m(\u001b[0m\u001b[0mf\u001b[0m\u001b[0;34m,\u001b[0m \u001b[0mself\u001b[0m\u001b[0;34m.\u001b[0m\u001b[0mengine\u001b[0m\u001b[0;34m)\u001b[0m\u001b[0;34m\u001b[0m\u001b[0;34m\u001b[0m\u001b[0m\n\u001b[0m\u001b[1;32m   1621\u001b[0m \u001b[0;34m\u001b[0m\u001b[0m\n\u001b[1;32m   1622\u001b[0m     \u001b[0;32mdef\u001b[0m \u001b[0mclose\u001b[0m\u001b[0;34m(\u001b[0m\u001b[0mself\u001b[0m\u001b[0;34m)\u001b[0m \u001b[0;34m->\u001b[0m \u001b[0;32mNone\u001b[0m\u001b[0;34m:\u001b[0m\u001b[0;34m\u001b[0m\u001b[0;34m\u001b[0m\u001b[0m\n",
            "\u001b[0;32m/usr/local/lib/python3.10/dist-packages/pandas/io/parsers/readers.py\u001b[0m in \u001b[0;36m_make_engine\u001b[0;34m(self, f, engine)\u001b[0m\n\u001b[1;32m   1878\u001b[0m                 \u001b[0;32mif\u001b[0m \u001b[0;34m\"b\"\u001b[0m \u001b[0;32mnot\u001b[0m \u001b[0;32min\u001b[0m \u001b[0mmode\u001b[0m\u001b[0;34m:\u001b[0m\u001b[0;34m\u001b[0m\u001b[0;34m\u001b[0m\u001b[0m\n\u001b[1;32m   1879\u001b[0m                     \u001b[0mmode\u001b[0m \u001b[0;34m+=\u001b[0m \u001b[0;34m\"b\"\u001b[0m\u001b[0;34m\u001b[0m\u001b[0;34m\u001b[0m\u001b[0m\n\u001b[0;32m-> 1880\u001b[0;31m             self.handles = get_handle(\n\u001b[0m\u001b[1;32m   1881\u001b[0m                 \u001b[0mf\u001b[0m\u001b[0;34m,\u001b[0m\u001b[0;34m\u001b[0m\u001b[0;34m\u001b[0m\u001b[0m\n\u001b[1;32m   1882\u001b[0m                 \u001b[0mmode\u001b[0m\u001b[0;34m,\u001b[0m\u001b[0;34m\u001b[0m\u001b[0;34m\u001b[0m\u001b[0m\n",
            "\u001b[0;32m/usr/local/lib/python3.10/dist-packages/pandas/io/common.py\u001b[0m in \u001b[0;36mget_handle\u001b[0;34m(path_or_buf, mode, encoding, compression, memory_map, is_text, errors, storage_options)\u001b[0m\n\u001b[1;32m    871\u001b[0m         \u001b[0;32mif\u001b[0m \u001b[0mioargs\u001b[0m\u001b[0;34m.\u001b[0m\u001b[0mencoding\u001b[0m \u001b[0;32mand\u001b[0m \u001b[0;34m\"b\"\u001b[0m \u001b[0;32mnot\u001b[0m \u001b[0;32min\u001b[0m \u001b[0mioargs\u001b[0m\u001b[0;34m.\u001b[0m\u001b[0mmode\u001b[0m\u001b[0;34m:\u001b[0m\u001b[0;34m\u001b[0m\u001b[0;34m\u001b[0m\u001b[0m\n\u001b[1;32m    872\u001b[0m             \u001b[0;31m# Encoding\u001b[0m\u001b[0;34m\u001b[0m\u001b[0;34m\u001b[0m\u001b[0m\n\u001b[0;32m--> 873\u001b[0;31m             handle = open(\n\u001b[0m\u001b[1;32m    874\u001b[0m                 \u001b[0mhandle\u001b[0m\u001b[0;34m,\u001b[0m\u001b[0;34m\u001b[0m\u001b[0;34m\u001b[0m\u001b[0m\n\u001b[1;32m    875\u001b[0m                 \u001b[0mioargs\u001b[0m\u001b[0;34m.\u001b[0m\u001b[0mmode\u001b[0m\u001b[0;34m,\u001b[0m\u001b[0;34m\u001b[0m\u001b[0;34m\u001b[0m\u001b[0m\n",
            "\u001b[0;31mFileNotFoundError\u001b[0m: [Errno 2] No such file or directory: 'cardio.csv'"
          ]
        }
      ],
      "source": [
        "df_full = pd.read_csv('cardio.csv', sep=';')\n",
        "\n",
        "features = ['age', 'height']\n",
        "target = ['cardio']\n",
        "\n",
        "df = df_full[features + target]\n",
        "print(df.shape)\n",
        "\n",
        "train_data, test_data, train_labels, test_labels = train_test_split(df[features].values,\n",
        "                                                                    np.squeeze(df[target].values),\n",
        "                                                                    test_size=0.3,\n",
        "                                                                    random_state=1)"
      ]
    },
    {
      "cell_type": "code",
      "execution_count": null,
      "metadata": {
        "id": "j-P6kavjROOF"
      },
      "outputs": [],
      "source": [
        "%%time\n",
        "\n",
        "my_tree = build_tree(train_data, train_labels)"
      ]
    },
    {
      "cell_type": "code",
      "execution_count": null,
      "metadata": {
        "collapsed": true,
        "id": "-YhAD9d1ROOH"
      },
      "outputs": [],
      "source": [
        "print_tree(my_tree)"
      ]
    },
    {
      "cell_type": "code",
      "execution_count": null,
      "metadata": {
        "id": "vI4KXaGvROOH"
      },
      "outputs": [],
      "source": [
        "train_answers = predict(train_data, my_tree)\n",
        "test_answers = predict(test_data, my_tree)"
      ]
    },
    {
      "cell_type": "code",
      "execution_count": null,
      "metadata": {
        "id": "COotDXMBROOI"
      },
      "outputs": [],
      "source": [
        "train_accuracy = accuracy_metric(train_labels, train_answers)\n",
        "test_accuracy = accuracy_metric(test_labels, test_answers)\n",
        "\n",
        "print(f'Train accuracy', train_accuracy)\n",
        "print(f'Test accuracy', test_accuracy)"
      ]
    },
    {
      "cell_type": "code",
      "execution_count": null,
      "metadata": {
        "id": "CNAvKkK2ROOK"
      },
      "outputs": [],
      "source": [
        "%%time\n",
        "visualize(train_data, test_data)"
      ]
    },
    {
      "cell_type": "code",
      "execution_count": null,
      "metadata": {
        "id": "u0UR8_zHROOM"
      },
      "outputs": [],
      "source": [
        "dt = DecisionTreeClassifier()\n",
        "dt.fit(train_data, train_labels)\n",
        "\n",
        "train_answers = dt.predict(train_data)\n",
        "test_answers = dt.predict(test_data)\n",
        "\n",
        "train_accuracy = accuracy_metric(train_labels, train_answers)\n",
        "test_accuracy = accuracy_metric(test_labels, test_answers)\n",
        "\n",
        "print(f'Train accuracy', train_accuracy)\n",
        "print(f'Test accuracy', test_accuracy)"
      ]
    },
    {
      "cell_type": "code",
      "execution_count": null,
      "metadata": {
        "id": "Y7blANSiROON"
      },
      "outputs": [],
      "source": [
        "accuracy_score(train_answers, train_labels) * 100"
      ]
    },
    {
      "cell_type": "markdown",
      "metadata": {
        "id": "eAYfxLSTabYZ"
      },
      "source": [
        "## Работа деревьев в случае пропущенных значений<a class='anchor' id='nan'>"
      ]
    },
    {
      "cell_type": "markdown",
      "metadata": {
        "id": "nhyvKAv2abYa"
      },
      "source": [
        "Иногда в реальных задачах бывает так, что не для всех объектов известно значение того или иного признака. Одним из преимуществ деревьев решений является возможность обрабатывать такие случаи.\n",
        "\n",
        "Допустим, требуется вычислить функционал качества для разбиения $[x_{j} \\leq t]$, но в выборке $X_{m}$ для некоторого подмножества объектов $V_{j}$ неизвестно значение $j$-го признака. В этом случае функционал качества рассчитывается без учета этих объектов (обозначим выборку без их учета как $X_{m}\\text{\\ }V_{j}$), с поправкой на потерю информации:\n",
        "\n",
        "$$Q_{X_{m}, j, t} = \\frac{|X_{m}\\text{\\ } V_{j}|}{|X_{m}|}Q(X_{m}\\text{\\ }V_{j}, j,t).$$"
      ]
    },
    {
      "cell_type": "markdown",
      "metadata": {
        "id": "V9mAVLqrabYb"
      },
      "source": [
        "Если такое разбиение окажется лучшим, объекты из $V_{j}$ помещаются в оба образованных поддерева.\n",
        "\n",
        "На этапе применения дерева выполняется похожая операция. Если объект попал в вершину, в которой нельзя вычислить критерий разбиения из-за отсутствия значения необходимого признака, прогнозы для него вычисляются в обоих поддеревьях, а затем усредняются с весами, пропорциональными числу объектов в них.\n",
        "\n",
        "$$\\frac{|X_{l}|}{|X_{m}|}a_{l}(x) + \\frac{|X_{r}|}{|X_{m}|}a_{r}(x),$$\n",
        "\n",
        "где $a$ - прогноз веорятности отнесения объекта $x$ к одному из классов."
      ]
    },
    {
      "cell_type": "markdown",
      "metadata": {
        "id": "lQNbAJWpROOU"
      },
      "source": [
        "**Добавим в выборку пропущенные значения**"
      ]
    },
    {
      "cell_type": "code",
      "execution_count": null,
      "metadata": {
        "colab": {
          "base_uri": "https://localhost:8080/",
          "height": 176
        },
        "id": "6T_3hQCWROOV",
        "outputId": "0ca2d2b1-63b8-4aeb-a7a9-621dd95cb6e4"
      },
      "outputs": [
        {
          "output_type": "error",
          "ename": "NameError",
          "evalue": "name 'df' is not defined",
          "traceback": [
            "\u001b[0;31m---------------------------------------------------------------------------\u001b[0m",
            "\u001b[0;31mNameError\u001b[0m                                 Traceback (most recent call last)",
            "\u001b[0;32m<ipython-input-10-6721faf92773>\u001b[0m in \u001b[0;36m<cell line: 1>\u001b[0;34m()\u001b[0m\n\u001b[0;32m----> 1\u001b[0;31m \u001b[0mrandom_indices\u001b[0m \u001b[0;34m=\u001b[0m \u001b[0mnp\u001b[0m\u001b[0;34m.\u001b[0m\u001b[0mrandom\u001b[0m\u001b[0;34m.\u001b[0m\u001b[0mrandint\u001b[0m\u001b[0;34m(\u001b[0m\u001b[0;36m0\u001b[0m\u001b[0;34m,\u001b[0m \u001b[0mdf\u001b[0m\u001b[0;34m.\u001b[0m\u001b[0mshape\u001b[0m\u001b[0;34m[\u001b[0m\u001b[0;36m0\u001b[0m\u001b[0;34m]\u001b[0m\u001b[0;34m,\u001b[0m \u001b[0;36m1000\u001b[0m\u001b[0;34m)\u001b[0m\u001b[0;34m\u001b[0m\u001b[0;34m\u001b[0m\u001b[0m\n\u001b[0m\u001b[1;32m      2\u001b[0m \u001b[0mdf\u001b[0m\u001b[0;34m.\u001b[0m\u001b[0mloc\u001b[0m\u001b[0;34m[\u001b[0m\u001b[0mrandom_indices\u001b[0m\u001b[0;34m,\u001b[0m \u001b[0;34m[\u001b[0m\u001b[0;34m'height'\u001b[0m\u001b[0;34m]\u001b[0m\u001b[0;34m]\u001b[0m \u001b[0;34m=\u001b[0m \u001b[0mnp\u001b[0m\u001b[0;34m.\u001b[0m\u001b[0mnan\u001b[0m\u001b[0;34m\u001b[0m\u001b[0;34m\u001b[0m\u001b[0m\n\u001b[1;32m      3\u001b[0m \u001b[0mdf\u001b[0m\u001b[0;34m.\u001b[0m\u001b[0misna\u001b[0m\u001b[0;34m(\u001b[0m\u001b[0;34m)\u001b[0m\u001b[0;34m.\u001b[0m\u001b[0msum\u001b[0m\u001b[0;34m(\u001b[0m\u001b[0;34m)\u001b[0m\u001b[0;34m\u001b[0m\u001b[0;34m\u001b[0m\u001b[0m\n",
            "\u001b[0;31mNameError\u001b[0m: name 'df' is not defined"
          ]
        }
      ],
      "source": [
        "random_indices = np.random.randint(0, df.shape[0], 1000)\n",
        "df.loc[random_indices, ['height']] = np.nan\n",
        "df.isna().sum()"
      ]
    },
    {
      "cell_type": "markdown",
      "metadata": {
        "id": "-O9WmfRhROOX"
      },
      "source": [
        "**Получим значения критерия Джини**"
      ]
    },
    {
      "cell_type": "code",
      "execution_count": null,
      "metadata": {
        "id": "Xgbfp8rfROOZ"
      },
      "outputs": [],
      "source": [
        "root_gini = gini(df['cardio'])\n",
        "root_gini"
      ]
    },
    {
      "cell_type": "code",
      "execution_count": null,
      "metadata": {
        "id": "V7_GEbvUROOa"
      },
      "outputs": [],
      "source": [
        "t = df['height'].median()\n",
        "\n",
        "df_clean = df[~df['height'].isna()]"
      ]
    },
    {
      "cell_type": "code",
      "execution_count": null,
      "metadata": {
        "id": "vLzPJTNNROOb"
      },
      "outputs": [],
      "source": [
        "df1 = df_clean[df_clean['height'] <= t]\n",
        "df2 = df_clean[df_clean['height'] > t]"
      ]
    },
    {
      "cell_type": "code",
      "execution_count": null,
      "metadata": {
        "id": "hDJ9ZX4MROOd"
      },
      "outputs": [],
      "source": [
        "gini1 = gini(df1['cardio'])\n",
        "gini2 = gini(df2['cardio'])\n",
        "gini1, gini2"
      ]
    },
    {
      "cell_type": "markdown",
      "metadata": {
        "id": "M2WVqhE8ROOf"
      },
      "source": [
        "**Получим значение прироста информации**"
      ]
    },
    {
      "cell_type": "code",
      "execution_count": null,
      "metadata": {
        "id": "AWbyWggJROOg"
      },
      "outputs": [],
      "source": [
        "current_gain = gain(df1['cardio'], df2['cardio'], root_gini)\n",
        "current_gain"
      ]
    },
    {
      "cell_type": "markdown",
      "metadata": {
        "id": "vlFFHGNaROOi"
      },
      "source": [
        "**Сделаем поправку на потерю информации**"
      ]
    },
    {
      "cell_type": "code",
      "execution_count": null,
      "metadata": {
        "id": "f-Ik2qoLROOj"
      },
      "outputs": [],
      "source": [
        "df_clean.shape[0] / df.shape[0] * current_gain"
      ]
    },
    {
      "cell_type": "markdown",
      "metadata": {
        "id": "hIIZVqUHROOl"
      },
      "source": [
        "**Если разбиение лучшее, то наблюдения с nan добавляются в обе ветки**"
      ]
    },
    {
      "cell_type": "code",
      "execution_count": null,
      "metadata": {
        "colab": {
          "base_uri": "https://localhost:8080/",
          "height": 159
        },
        "collapsed": true,
        "id": "JAslfpTUROOn",
        "outputId": "7a1f8154-b0b5-4b7f-f5dd-5113f18a2302"
      },
      "outputs": [
        {
          "output_type": "error",
          "ename": "NameError",
          "evalue": "name 'df1' is not defined",
          "traceback": [
            "\u001b[0;31m---------------------------------------------------------------------------\u001b[0m",
            "\u001b[0;31mNameError\u001b[0m                                 Traceback (most recent call last)",
            "\u001b[0;32m<ipython-input-5-c6ad7345c01f>\u001b[0m in \u001b[0;36m<cell line: 1>\u001b[0;34m()\u001b[0m\n\u001b[0;32m----> 1\u001b[0;31m \u001b[0mdf1\u001b[0m \u001b[0;34m=\u001b[0m \u001b[0mpd\u001b[0m\u001b[0;34m.\u001b[0m\u001b[0mconcat\u001b[0m\u001b[0;34m(\u001b[0m\u001b[0mdf1\u001b[0m\u001b[0;34m,\u001b[0m \u001b[0mdf\u001b[0m\u001b[0;34m[\u001b[0m\u001b[0mdf\u001b[0m\u001b[0;34m[\u001b[0m\u001b[0;34m'height'\u001b[0m\u001b[0;34m]\u001b[0m\u001b[0;34m.\u001b[0m\u001b[0misna\u001b[0m\u001b[0;34m(\u001b[0m\u001b[0;34m)\u001b[0m\u001b[0;34m]\u001b[0m\u001b[0;34m)\u001b[0m\u001b[0;34m\u001b[0m\u001b[0;34m\u001b[0m\u001b[0m\n\u001b[0m\u001b[1;32m      2\u001b[0m \u001b[0mdf2\u001b[0m \u001b[0;34m=\u001b[0m \u001b[0mpd\u001b[0m\u001b[0;34m.\u001b[0m\u001b[0mconcat\u001b[0m\u001b[0;34m(\u001b[0m\u001b[0mdf2\u001b[0m\u001b[0;34m,\u001b[0m \u001b[0mdf\u001b[0m\u001b[0;34m[\u001b[0m\u001b[0mdf\u001b[0m\u001b[0;34m[\u001b[0m\u001b[0;34m'height'\u001b[0m\u001b[0;34m]\u001b[0m\u001b[0;34m.\u001b[0m\u001b[0misna\u001b[0m\u001b[0;34m(\u001b[0m\u001b[0;34m)\u001b[0m\u001b[0;34m]\u001b[0m\u001b[0;34m)\u001b[0m\u001b[0;34m\u001b[0m\u001b[0;34m\u001b[0m\u001b[0m\n",
            "\u001b[0;31mNameError\u001b[0m: name 'df1' is not defined"
          ]
        }
      ],
      "source": [
        "df1 = pd.concat(df1, df[df['height'].isna()])\n",
        "df2 = pd.concat(df2, df[df['height'].isna()])"
      ]
    },
    {
      "cell_type": "markdown",
      "metadata": {
        "id": "jyKBrnbpabYd"
      },
      "source": [
        "## Работа деревьев с категориальными признаками<a class='anchor' id='cats'>"
      ]
    },
    {
      "cell_type": "markdown",
      "metadata": {
        "id": "WaIif9BAabYe"
      },
      "source": [
        "Кроме вещественных и бинарных признаков в задаче могут иметь место категориальные признаки (делящиеся на конечное число категорий, например, цвета автомобилей). Самый простой способ учета категориальных признаков в алгоритме деревьев состоит в разбитии вершины на столько поддеревьев, сколько имеется возможных значений признака. В этом случае дерево называется _n-арным_. Условие разбиения будет простым (отнесение признака к той или иной категории), однако здесь появляется риск получения конечного дерева с очень большим числом листьев. В случае такого дерева критерий ошибки $Q$ будет состоять из $n$ слагаемых (или из $(n+1)$) в случае максимизируемого критерия, который мы использовали."
      ]
    },
    {
      "cell_type": "markdown",
      "metadata": {
        "id": "oo6IMSS-abYf"
      },
      "source": [
        "Есть и другой подход, заключающийся в формировании бинарных деревьев путем разделения множества значений признака $C = \\{c_{1}, ...,c_{n}\\}$ на два непересекающихся подмножества $C_{1}$ и $C_{2}$. После такого разделения условием разбиения в узле будет проверка принадлежности признака одному из подмножеств $[x \\in C_{1}]$.\n",
        "\n",
        "Задача остается в выборе оптимального варианта разбиения исходного множества на два подмножества, так как обычный перебор всех вариантов может быть крайне затруднительным из-за большого количества вариантов разбиения. В случаях с бинарной классификацией и регрессией используют следующий метод: все возможные значения категориального признака сортируются по определенному принципу, затем заменяются на натуральные числа.\n",
        "\n",
        "В случае бинарной классификации признаки упорядочиваются на основе того, какая доля объектов с такими признаками относится к классу +1. Если обозначить множество объектов в узле $m$, у которых $j$-й признак имеет значение $с$, через $X_{m}(c)$, а через $N_{m}(c)$ количество таких объектов, получим:\n",
        "\n",
        "$$\\frac{1}{N_{m}(c_{1})} \\sum_{x \\in X_{m}(c_{1})}[y_{i}=+1]\\leq...\\leq \\frac{1}{N_{m}(c_{n})} \\sum_{x \\in X_{m}(c_{n})}[y_{i}=+1],$$\n",
        "\n",
        "и после замены категории $c_{i}$ на натуральное число ищется разбиение как для вещественного признака."
      ]
    },
    {
      "cell_type": "markdown",
      "metadata": {
        "id": "Bb3tpXPcabYf"
      },
      "source": [
        "В случае задачи регрессии сортировка происходит схожим образом, но вместо доли объектов положительного класса среди объектов с таким значением признака вычисляется средний ответ по объектам с соответствующим значением категориального признака:\n",
        "\n",
        "$$\\frac{1}{N_{m}(c_{1})} \\sum_{x \\in X_{m}(c_{1})}y_{i}\\leq...\\leq \\frac{1}{N_{m}(c_{n})} \\sum_{x \\in X_{m}(c_{n})}y_{i}.$$"
      ]
    },
    {
      "cell_type": "markdown",
      "metadata": {
        "id": "qkprbQPiROOt"
      },
      "source": [
        "**Для классификации**"
      ]
    },
    {
      "cell_type": "code",
      "execution_count": null,
      "metadata": {
        "colab": {
          "base_uri": "https://localhost:8080/",
          "height": 211
        },
        "id": "wpwNLQvSROOu",
        "outputId": "d08d8ac0-4ca4-40bf-9d1e-225a7e3d90ae"
      },
      "outputs": [
        {
          "output_type": "error",
          "ename": "NameError",
          "evalue": "name 'df' is not defined",
          "traceback": [
            "\u001b[0;31m---------------------------------------------------------------------------\u001b[0m",
            "\u001b[0;31mNameError\u001b[0m                                 Traceback (most recent call last)",
            "\u001b[0;32m<ipython-input-13-266de2b9d2b3>\u001b[0m in \u001b[0;36m<cell line: 3>\u001b[0;34m()\u001b[0m\n\u001b[1;32m      1\u001b[0m \u001b[0mcolors\u001b[0m \u001b[0;34m=\u001b[0m \u001b[0;34m[\u001b[0m\u001b[0;34m'gray'\u001b[0m\u001b[0;34m,\u001b[0m \u001b[0;34m'blue'\u001b[0m\u001b[0;34m,\u001b[0m \u001b[0;34m'green'\u001b[0m\u001b[0;34m]\u001b[0m\u001b[0;34m\u001b[0m\u001b[0;34m\u001b[0m\u001b[0m\n\u001b[1;32m      2\u001b[0m \u001b[0mnew_feature\u001b[0m \u001b[0;34m=\u001b[0m \u001b[0;34m[\u001b[0m\u001b[0;34m]\u001b[0m\u001b[0;34m\u001b[0m\u001b[0;34m\u001b[0m\u001b[0m\n\u001b[0;32m----> 3\u001b[0;31m \u001b[0;32mfor\u001b[0m \u001b[0mi\u001b[0m \u001b[0;32min\u001b[0m \u001b[0mrange\u001b[0m\u001b[0;34m(\u001b[0m\u001b[0mdf\u001b[0m\u001b[0;34m.\u001b[0m\u001b[0mshape\u001b[0m\u001b[0;34m[\u001b[0m\u001b[0;36m0\u001b[0m\u001b[0;34m]\u001b[0m\u001b[0;34m)\u001b[0m\u001b[0;34m:\u001b[0m\u001b[0;34m\u001b[0m\u001b[0;34m\u001b[0m\u001b[0m\n\u001b[0m\u001b[1;32m      4\u001b[0m     \u001b[0mnew_feature\u001b[0m\u001b[0;34m.\u001b[0m\u001b[0mappend\u001b[0m\u001b[0;34m(\u001b[0m\u001b[0mnp\u001b[0m\u001b[0;34m.\u001b[0m\u001b[0mrandom\u001b[0m\u001b[0;34m.\u001b[0m\u001b[0mchoice\u001b[0m\u001b[0;34m(\u001b[0m\u001b[0mcolors\u001b[0m\u001b[0;34m,\u001b[0m \u001b[0mp\u001b[0m\u001b[0;34m=\u001b[0m\u001b[0;34m[\u001b[0m\u001b[0;34m'0.5'\u001b[0m\u001b[0;34m,\u001b[0m \u001b[0;34m'0.2'\u001b[0m\u001b[0;34m,\u001b[0m \u001b[0;34m'0.3'\u001b[0m\u001b[0;34m]\u001b[0m\u001b[0;34m)\u001b[0m\u001b[0;34m)\u001b[0m\u001b[0;34m\u001b[0m\u001b[0;34m\u001b[0m\u001b[0m\n\u001b[1;32m      5\u001b[0m \u001b[0;34m\u001b[0m\u001b[0m\n",
            "\u001b[0;31mNameError\u001b[0m: name 'df' is not defined"
          ]
        }
      ],
      "source": [
        "colors = ['gray', 'blue', 'green']\n",
        "new_feature = []\n",
        "for i in range(df.shape[0]):\n",
        "    new_feature.append(np.random.choice(colors, p=['0.5', '0.2', '0.3']))\n",
        "\n",
        "df['eye_color'] = new_feature\n",
        "\n",
        "df"
      ]
    },
    {
      "cell_type": "code",
      "execution_count": null,
      "metadata": {
        "id": "dSHSAuzUROOw"
      },
      "outputs": [],
      "source": [
        "df[df['cardio'] == 1]['eye_color'].value_counts()"
      ]
    },
    {
      "cell_type": "code",
      "execution_count": null,
      "metadata": {
        "id": "f0SK3f6nROOy"
      },
      "outputs": [],
      "source": [
        "df['eye_color'].replace({'gray': 3, 'green': 2, 'blue': 1})"
      ]
    },
    {
      "cell_type": "markdown",
      "metadata": {
        "id": "wTS-HMDQROOz"
      },
      "source": [
        "**Для регрессии**"
      ]
    },
    {
      "cell_type": "code",
      "execution_count": null,
      "metadata": {
        "colab": {
          "base_uri": "https://localhost:8080/",
          "height": 141
        },
        "id": "mevNNpW7ROO0",
        "outputId": "de3c9bbc-b1a8-4949-d0c2-358d6d4bbf76"
      },
      "outputs": [
        {
          "output_type": "error",
          "ename": "NameError",
          "evalue": "name 'df' is not defined",
          "traceback": [
            "\u001b[0;31m---------------------------------------------------------------------------\u001b[0m",
            "\u001b[0;31mNameError\u001b[0m                                 Traceback (most recent call last)",
            "\u001b[0;32m<ipython-input-12-de417a88b9de>\u001b[0m in \u001b[0;36m<cell line: 1>\u001b[0;34m()\u001b[0m\n\u001b[0;32m----> 1\u001b[0;31m \u001b[0mdf\u001b[0m\u001b[0;34m.\u001b[0m\u001b[0mgroupby\u001b[0m\u001b[0;34m(\u001b[0m\u001b[0;34m'eye_color'\u001b[0m\u001b[0;34m)\u001b[0m\u001b[0;34m.\u001b[0m\u001b[0mmean\u001b[0m\u001b[0;34m(\u001b[0m\u001b[0;34m)\u001b[0m\u001b[0;34m[\u001b[0m\u001b[0;34m'age'\u001b[0m\u001b[0;34m]\u001b[0m\u001b[0;34m.\u001b[0m\u001b[0msort_values\u001b[0m\u001b[0;34m(\u001b[0m\u001b[0mascending\u001b[0m\u001b[0;34m=\u001b[0m\u001b[0;32mFalse\u001b[0m\u001b[0;34m)\u001b[0m\u001b[0;34m\u001b[0m\u001b[0;34m\u001b[0m\u001b[0m\n\u001b[0m",
            "\u001b[0;31mNameError\u001b[0m: name 'df' is not defined"
          ]
        }
      ],
      "source": [
        "df.groupby('eye_color').mean()['age'].sort_values(ascending=False)"
      ]
    },
    {
      "cell_type": "code",
      "execution_count": null,
      "metadata": {
        "id": "AFPdsQ2XROO1"
      },
      "outputs": [],
      "source": [
        "df['eye_color'].replace({'gray': 1, 'green': 3, 'blue': 2})"
      ]
    },
    {
      "cell_type": "code",
      "execution_count": null,
      "metadata": {
        "id": "ImrL6V8rwxbX"
      },
      "outputs": [],
      "source": [
        "# Реализуем класс узла\n",
        "\n",
        "class Node:\n",
        "\n",
        "    def __init__(self, index, t, true_branch, false_branch):\n",
        "        self.index = index  # индекс признака, по которому ведется сравнение с порогом в этом узле\n",
        "        self.t = t  # значение порога\n",
        "        self.true_branch = true_branch  # поддерево, удовлетворяющее условию в узле\n",
        "        self.false_branch = false_branch  # поддерево, не удовлетворяющее условию в узле"
      ]
    },
    {
      "cell_type": "code",
      "execution_count": null,
      "metadata": {
        "id": "UGR-vMAQWZb6"
      },
      "outputs": [],
      "source": [
        "# И класс терминального узла (листа)\n",
        "\n",
        "class LeafReg:\n",
        "    def __init__(self, labels):\n",
        "        self.prediction = self.predict(labels)\n",
        "\n",
        "    def predict(self, labels):\n",
        "        return labels.mean()\n"
      ]
    },
    {
      "cell_type": "code",
      "execution_count": null,
      "metadata": {
        "id": "eN29qSpSWZb7"
      },
      "outputs": [],
      "source": [
        "def dev(array):\n",
        "    mean = array.mean()\n",
        "    return np.mean((array - mean)**2)"
      ]
    },
    {
      "cell_type": "code",
      "execution_count": null,
      "metadata": {
        "id": "sPRhC0XJWZb8"
      },
      "outputs": [],
      "source": [
        "def dev_gain(true_labels, false_labels, labels):\n",
        "    p = len(true_labels) / len(labels)\n",
        "    return dev(labels) - (p * dev(true_labels) + (1 - p) * dev(false_labels))"
      ]
    },
    {
      "cell_type": "code",
      "execution_count": null,
      "metadata": {
        "id": "bXerBqKjWZb8"
      },
      "outputs": [],
      "source": [
        "def find_best_split_for_reg(data, labels, min_samples_leaf=2):\n",
        "    best_gain = 0\n",
        "    best_index = None\n",
        "    best_t = None\n",
        "\n",
        "    for index in range(data.shape[1]):\n",
        "        t_values = np.unique(data[:, index])\n",
        "\n",
        "        for t in t_values:\n",
        "            true_data, false_data, true_labels, false_labels = split(data, labels, index, t)\n",
        "\n",
        "            if len(true_labels) <= min_samples_leaf  or len(false_labels) <= min_samples_leaf:\n",
        "                continue\n",
        "\n",
        "            current_gain = dev_gain(true_labels, false_labels, labels)\n",
        "\n",
        "            if current_gain > best_gain:\n",
        "                best_gain, best_index, best_t = current_gain, index, t\n",
        "\n",
        "    return best_gain, best_t, best_index"
      ]
    },
    {
      "cell_type": "code",
      "execution_count": null,
      "metadata": {
        "id": "xfxZdomIWZb-"
      },
      "outputs": [],
      "source": [
        "import time\n",
        "# Построение дерева с помощью рекурсивной функции\n",
        "\n",
        "def build_tree_reg(data, labels, depth=0, leaf_count=[0], max_leaf_nodes=200, min_samples_leaf=4, max_depth=10, alpha=0.01):\n",
        "\n",
        "    if leaf_count[0] >= max_leaf_nodes:\n",
        "        return None\n",
        "\n",
        "    gain, t, index = find_best_split_for_reg(data, labels, min_samples_leaf)\n",
        "\n",
        "    if (depth >= max_depth or\n",
        "        gain < alpha):\n",
        "        leaf_count[0]+=1\n",
        "        return LeafReg(labels)\n",
        "\n",
        "    true_data, false_data, true_labels, false_labels = split(data, labels, index, t)\n",
        "\n",
        "    true_branch = build_tree_reg(true_data, true_labels, depth+1, leaf_count, max_leaf_nodes, min_samples_leaf, max_depth, alpha)\n",
        "    false_branch = build_tree_reg(false_data, false_labels, depth+1, leaf_count, max_leaf_nodes, min_samples_leaf, max_depth, alpha)\n",
        "\n",
        "    if true_branch is None or false_branch is None:\n",
        "        leaf_count[0] += 1\n",
        "        return LeafReg(labels)\n",
        "\n",
        "    return Node(index, t, true_branch, false_branch)"
      ]
    },
    {
      "cell_type": "code",
      "execution_count": null,
      "metadata": {
        "id": "Kt87SnjhWZb-"
      },
      "outputs": [],
      "source": [
        "def classify_object_reg(obj, node):\n",
        "\n",
        "    #  Останавливаем рекурсию, если достигли листа\n",
        "    if isinstance(node, LeafReg):\n",
        "        answer = node.prediction\n",
        "        return answer\n",
        "\n",
        "    if obj[node.index] <= node.t:\n",
        "        return classify_object_reg(obj, node.true_branch)\n",
        "    else:\n",
        "        return classify_object_reg(obj, node.false_branch)"
      ]
    },
    {
      "cell_type": "code",
      "execution_count": null,
      "metadata": {
        "id": "-cvNFKLXWZb_"
      },
      "outputs": [],
      "source": [
        "def predict(data, tree):\n",
        "\n",
        "    classes = []\n",
        "    for obj in data:\n",
        "        prediction = classify_object_reg(obj, tree)\n",
        "        classes.append(prediction)\n",
        "    return classes"
      ]
    },
    {
      "cell_type": "code",
      "execution_count": null,
      "metadata": {
        "id": "FPy9SJvxpTGK"
      },
      "outputs": [],
      "source": [
        "def error_calc(predictions, true_labels):\n",
        "    error = np.mean((np.array(predictions) - np.array(true_labels)) ** 2)\n",
        "    return error"
      ]
    },
    {
      "cell_type": "code",
      "execution_count": null,
      "metadata": {
        "id": "qN7lnbbywxbY"
      },
      "outputs": [],
      "source": [
        "# Разбиение датасета в узле\n",
        "\n",
        "def split(data, labels, column_index, t):\n",
        "    left = np.where(data[:, column_index] <= t)\n",
        "    right = np.where(data[:, column_index] > t)\n",
        "\n",
        "    true_data = data[left]\n",
        "    false_data = data[right]\n",
        "\n",
        "    true_labels = labels[left]\n",
        "    false_labels = labels[right]\n",
        "\n",
        "    return true_data, false_data, true_labels, false_labels"
      ]
    },
    {
      "cell_type": "code",
      "execution_count": null,
      "metadata": {
        "colab": {
          "base_uri": "https://localhost:8080/"
        },
        "id": "QS_PCAMStsDb",
        "outputId": "c7d715a0-e7ad-44bd-e576-bd2c7e0cc8f2"
      },
      "outputs": [
        {
          "output_type": "stream",
          "name": "stdout",
          "text": [
            "18.43887812878756\n",
            "7.946699540276617\n"
          ]
        }
      ],
      "source": [
        "from sklearn.datasets import make_regression\n",
        "from sklearn.model_selection import train_test_split\n",
        "\n",
        "data, labels = make_regression(n_samples=1000, n_features=2, noise=0.1, random_state=42)\n",
        "\n",
        "train_data, test_data, train_labels, test_labels = train_test_split(data, labels, test_size=0.3, random_state=36)\n",
        "\n",
        "tree = build_tree_reg(train_data, train_labels)\n",
        "\n",
        "predictions = predict(test_data, tree)\n",
        "predictions_train = predict(train_data, tree)\n",
        "\n",
        "mse_score = error_calc(predictions, test_labels)\n",
        "mse_score_train = error_calc(predictions_train, train_labels)\n",
        "\n",
        "print(mse_score)\n",
        "print(mse_score_train)"
      ]
    }
  ],
  "metadata": {
    "colab": {
      "provenance": []
    },
    "kernelspec": {
      "display_name": "Python 3",
      "language": "python",
      "name": "python3"
    },
    "language_info": {
      "codemirror_mode": {
        "name": "ipython",
        "version": 3
      },
      "file_extension": ".py",
      "mimetype": "text/x-python",
      "name": "python",
      "nbconvert_exporter": "python",
      "pygments_lexer": "ipython3",
      "version": "3.8.10"
    }
  },
  "nbformat": 4,
  "nbformat_minor": 0
}